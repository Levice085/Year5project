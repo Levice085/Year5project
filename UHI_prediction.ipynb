{
 "cells": [
  {
   "cell_type": "markdown",
   "metadata": {},
   "source": [
    "## **Model predicting Urban Heat Island**"
   ]
  },
  {
   "cell_type": "code",
   "execution_count": 29,
   "metadata": {},
   "outputs": [],
   "source": [
    "import numpy as np\n",
    "import pandas as pd"
   ]
  },
  {
   "cell_type": "code",
   "execution_count": 30,
   "metadata": {},
   "outputs": [],
   "source": [
    "uhi = pd.read_csv(r\"C:\\Users\\levie\\OneDrive\\Desktop\\Year 5\\project\\dataset\\UHI_training_data.csv\")"
   ]
  },
  {
   "cell_type": "code",
   "execution_count": 31,
   "metadata": {},
   "outputs": [
    {
     "data": {
      "text/html": [
       "<div>\n",
       "<style scoped>\n",
       "    .dataframe tbody tr th:only-of-type {\n",
       "        vertical-align: middle;\n",
       "    }\n",
       "\n",
       "    .dataframe tbody tr th {\n",
       "        vertical-align: top;\n",
       "    }\n",
       "\n",
       "    .dataframe thead th {\n",
       "        text-align: right;\n",
       "    }\n",
       "</style>\n",
       "<table border=\"1\" class=\"dataframe\">\n",
       "  <thead>\n",
       "    <tr style=\"text-align: right;\">\n",
       "      <th></th>\n",
       "      <th>system:index</th>\n",
       "      <th>EMM</th>\n",
       "      <th>FV</th>\n",
       "      <th>LST</th>\n",
       "      <th>Map</th>\n",
       "      <th>NDVI</th>\n",
       "      <th>class</th>\n",
       "      <th>suhi</th>\n",
       "      <th>.geo</th>\n",
       "    </tr>\n",
       "  </thead>\n",
       "  <tbody>\n",
       "    <tr>\n",
       "      <th>0</th>\n",
       "      <td>1_1_1_1_1_1_1_1_1_2_7_0</td>\n",
       "      <td>0.988258</td>\n",
       "      <td>0.564607</td>\n",
       "      <td>30.783192</td>\n",
       "      <td>50</td>\n",
       "      <td>0.191956</td>\n",
       "      <td>10</td>\n",
       "      <td>1.780245</td>\n",
       "      <td>{\"type\":\"MultiPoint\",\"coordinates\":[]}</td>\n",
       "    </tr>\n",
       "    <tr>\n",
       "      <th>1</th>\n",
       "      <td>1_1_1_1_1_1_1_1_1_2_21_0</td>\n",
       "      <td>0.987213</td>\n",
       "      <td>0.303351</td>\n",
       "      <td>31.487080</td>\n",
       "      <td>50</td>\n",
       "      <td>0.101995</td>\n",
       "      <td>10</td>\n",
       "      <td>2.484133</td>\n",
       "      <td>{\"type\":\"MultiPoint\",\"coordinates\":[]}</td>\n",
       "    </tr>\n",
       "    <tr>\n",
       "      <th>2</th>\n",
       "      <td>1_1_1_1_1_1_1_1_1_2_27_0</td>\n",
       "      <td>0.987232</td>\n",
       "      <td>0.308082</td>\n",
       "      <td>31.362094</td>\n",
       "      <td>50</td>\n",
       "      <td>0.103624</td>\n",
       "      <td>10</td>\n",
       "      <td>2.359147</td>\n",
       "      <td>{\"type\":\"MultiPoint\",\"coordinates\":[]}</td>\n",
       "    </tr>\n",
       "    <tr>\n",
       "      <th>3</th>\n",
       "      <td>1_1_1_1_1_1_1_1_1_2_32_0</td>\n",
       "      <td>0.987747</td>\n",
       "      <td>0.436773</td>\n",
       "      <td>30.672953</td>\n",
       "      <td>50</td>\n",
       "      <td>0.147938</td>\n",
       "      <td>10</td>\n",
       "      <td>1.670006</td>\n",
       "      <td>{\"type\":\"MultiPoint\",\"coordinates\":[]}</td>\n",
       "    </tr>\n",
       "    <tr>\n",
       "      <th>4</th>\n",
       "      <td>1_1_1_1_1_1_1_1_1_2_41_0</td>\n",
       "      <td>0.989417</td>\n",
       "      <td>0.854355</td>\n",
       "      <td>28.460604</td>\n",
       "      <td>50</td>\n",
       "      <td>0.291729</td>\n",
       "      <td>10</td>\n",
       "      <td>-0.542343</td>\n",
       "      <td>{\"type\":\"MultiPoint\",\"coordinates\":[]}</td>\n",
       "    </tr>\n",
       "  </tbody>\n",
       "</table>\n",
       "</div>"
      ],
      "text/plain": [
       "               system:index       EMM        FV        LST  Map      NDVI  \\\n",
       "0   1_1_1_1_1_1_1_1_1_2_7_0  0.988258  0.564607  30.783192   50  0.191956   \n",
       "1  1_1_1_1_1_1_1_1_1_2_21_0  0.987213  0.303351  31.487080   50  0.101995   \n",
       "2  1_1_1_1_1_1_1_1_1_2_27_0  0.987232  0.308082  31.362094   50  0.103624   \n",
       "3  1_1_1_1_1_1_1_1_1_2_32_0  0.987747  0.436773  30.672953   50  0.147938   \n",
       "4  1_1_1_1_1_1_1_1_1_2_41_0  0.989417  0.854355  28.460604   50  0.291729   \n",
       "\n",
       "   class      suhi                                    .geo  \n",
       "0     10  1.780245  {\"type\":\"MultiPoint\",\"coordinates\":[]}  \n",
       "1     10  2.484133  {\"type\":\"MultiPoint\",\"coordinates\":[]}  \n",
       "2     10  2.359147  {\"type\":\"MultiPoint\",\"coordinates\":[]}  \n",
       "3     10  1.670006  {\"type\":\"MultiPoint\",\"coordinates\":[]}  \n",
       "4     10 -0.542343  {\"type\":\"MultiPoint\",\"coordinates\":[]}  "
      ]
     },
     "execution_count": 31,
     "metadata": {},
     "output_type": "execute_result"
    }
   ],
   "source": [
    "uhi.head()"
   ]
  },
  {
   "cell_type": "code",
   "execution_count": 32,
   "metadata": {},
   "outputs": [
    {
     "data": {
      "text/plain": [
       "system:index    0\n",
       "EMM             0\n",
       "FV              0\n",
       "LST             0\n",
       "Map             0\n",
       "NDVI            0\n",
       "class           0\n",
       "suhi            0\n",
       ".geo            0\n",
       "dtype: int64"
      ]
     },
     "execution_count": 32,
     "metadata": {},
     "output_type": "execute_result"
    }
   ],
   "source": [
    "uhi.isnull().sum()"
   ]
  },
  {
   "cell_type": "code",
   "execution_count": 33,
   "metadata": {},
   "outputs": [
    {
     "data": {
      "text/plain": [
       "system:index     object\n",
       "EMM             float64\n",
       "FV              float64\n",
       "LST             float64\n",
       "Map               int64\n",
       "NDVI            float64\n",
       "class             int64\n",
       "suhi            float64\n",
       ".geo             object\n",
       "dtype: object"
      ]
     },
     "execution_count": 33,
     "metadata": {},
     "output_type": "execute_result"
    }
   ],
   "source": [
    "uhi.dtypes"
   ]
  },
  {
   "cell_type": "code",
   "execution_count": 34,
   "metadata": {},
   "outputs": [],
   "source": [
    "uhi = uhi.drop(['system:index','Map','.geo'],axis = 1)"
   ]
  },
  {
   "cell_type": "code",
   "execution_count": 35,
   "metadata": {},
   "outputs": [
    {
     "name": "stdout",
     "output_type": "stream",
     "text": [
      "(1540, 5)\n"
     ]
    }
   ],
   "source": [
    "#Training features for SUHI\n",
    "independent_features = uhi.drop(['suhi'],axis=1)\n",
    "dependent_features = uhi['suhi']\n",
    "\n",
    "#Training features for LULC\n",
    "features = uhi.drop(['class'],axis=1)\n",
    "targets = uhi['class']\n",
    "print(independent_features.shape)"
   ]
  },
  {
   "cell_type": "markdown",
   "metadata": {},
   "source": [
    "We use RandomForestClasify to classify Land Use Land Cover<br>\n",
    "We use RandomForestRegressor to predict UHI\n"
   ]
  },
  {
   "cell_type": "code",
   "execution_count": 36,
   "metadata": {},
   "outputs": [],
   "source": [
    "#Splitting the dataets\n",
    "from sklearn.model_selection import train_test_split\n",
    "X_train,X_test,y_train,y_test = train_test_split(independent_features,dependent_features,test_size=0.3,random_state=100)\n",
    "X_train_class,X_test_class,y_train_class,y_test_class = train_test_split(features,targets,test_size=0.3,random_state=100)"
   ]
  },
  {
   "cell_type": "code",
   "execution_count": 37,
   "metadata": {},
   "outputs": [],
   "source": [
    "# Standardize the values for the regressor\n",
    "from sklearn.preprocessing import StandardScaler,MinMaxScaler\n",
    "scale = StandardScaler()\n",
    "X_train_scaled = scale.fit_transform(X_train)\n",
    "X_test_scaled = scale.fit_transform(X_test)\n",
    "\n",
    "#Standardize values of the clasifier\n",
    "X_train_scaled1 = scale.fit_transform(X_train_class)\n",
    "X_test_scaled1 = scale.fit_transform(X_test_class)"
   ]
  },
  {
   "cell_type": "code",
   "execution_count": 38,
   "metadata": {},
   "outputs": [],
   "source": [
    "#Fitting the model for training\n",
    "from sklearn.ensemble import RandomForestRegressor\n",
    "rfr = RandomForestRegressor()"
   ]
  },
  {
   "cell_type": "code",
   "execution_count": 39,
   "metadata": {},
   "outputs": [],
   "source": [
    "#Random forest regressor-UHI prediction\n",
    "rfr.fit(X_train_scaled,y_train)\n",
    "y_pred = rfr.predict(X_test_scaled)"
   ]
  },
  {
   "cell_type": "code",
   "execution_count": 40,
   "metadata": {},
   "outputs": [
    {
     "name": "stdout",
     "output_type": "stream",
     "text": [
      "The mean absolute error is:0.023\n",
      "The mean squared error is:0.001\n",
      "R2:0.999\n",
      "None\n"
     ]
    }
   ],
   "source": [
    "from sklearn.metrics import r2_score,mean_absolute_error,mean_squared_error\n",
    "# Evaluating model performance\n",
    "def model_perform (y_p,y_t):\n",
    "    mae = mean_absolute_error(y_p,y_t)\n",
    "    mse = mean_squared_error(y_p,y_t)\n",
    "    r2 = r2_score(y_p,y_t)\n",
    "    print(f\"The mean absolute error is:{mae:.3f}\")\n",
    "    print(f\"The mean squared error is:{mse:.3f}\")\n",
    "    print(f\"R2:{r2:.3f}\")\n",
    "model_eval = model_perform(y_pred,y_test)\n",
    "print(model_eval)"
   ]
  },
  {
   "cell_type": "markdown",
   "metadata": {},
   "source": [
    "### Saving the model\n"
   ]
  },
  {
   "cell_type": "code",
   "execution_count": 41,
   "metadata": {},
   "outputs": [],
   "source": [
    "import pickle\n",
    "filename = \"UHI_model.sav\"\n",
    "pickle.dump(rfr, open(filename, 'wb'))"
   ]
  },
  {
   "cell_type": "code",
   "execution_count": 42,
   "metadata": {},
   "outputs": [],
   "source": [
    "import joblib"
   ]
  },
  {
   "cell_type": "code",
   "execution_count": 43,
   "metadata": {},
   "outputs": [],
   "source": [
    "def load_model():\n",
    "    return joblib.load(\"C:/Users/levie/OneDrive/Desktop/Year 5/project/scripts/UHI_model.sav\")\n",
    "\n",
    "model = load_model()"
   ]
  },
  {
   "cell_type": "markdown",
   "metadata": {},
   "source": [
    "Converting the geojson to lattitude and longitude"
   ]
  },
  {
   "cell_type": "code",
   "execution_count": 44,
   "metadata": {},
   "outputs": [
    {
     "data": {
      "text/plain": [
       "EMM      float64\n",
       "FV       float64\n",
       "LST      float64\n",
       "NDVI     float64\n",
       "class      int64\n",
       "suhi     float64\n",
       "dtype: object"
      ]
     },
     "execution_count": 44,
     "metadata": {},
     "output_type": "execute_result"
    }
   ],
   "source": [
    "uhi.dtypes"
   ]
  },
  {
   "cell_type": "code",
   "execution_count": 46,
   "metadata": {},
   "outputs": [
    {
     "ename": "KeyError",
     "evalue": "'GeoJSON'",
     "output_type": "error",
     "traceback": [
      "\u001b[31m---------------------------------------------------------------------------\u001b[39m",
      "\u001b[31mKeyError\u001b[39m                                  Traceback (most recent call last)",
      "\u001b[36mFile \u001b[39m\u001b[32mc:\\Users\\levie\\miniconda3\\envs\\geo\\Lib\\site-packages\\pandas\\core\\indexes\\base.py:3805\u001b[39m, in \u001b[36mIndex.get_loc\u001b[39m\u001b[34m(self, key)\u001b[39m\n\u001b[32m   3804\u001b[39m \u001b[38;5;28;01mtry\u001b[39;00m:\n\u001b[32m-> \u001b[39m\u001b[32m3805\u001b[39m     \u001b[38;5;28;01mreturn\u001b[39;00m \u001b[38;5;28;43mself\u001b[39;49m\u001b[43m.\u001b[49m\u001b[43m_engine\u001b[49m\u001b[43m.\u001b[49m\u001b[43mget_loc\u001b[49m\u001b[43m(\u001b[49m\u001b[43mcasted_key\u001b[49m\u001b[43m)\u001b[49m\n\u001b[32m   3806\u001b[39m \u001b[38;5;28;01mexcept\u001b[39;00m \u001b[38;5;167;01mKeyError\u001b[39;00m \u001b[38;5;28;01mas\u001b[39;00m err:\n",
      "\u001b[36mFile \u001b[39m\u001b[32mindex.pyx:167\u001b[39m, in \u001b[36mpandas._libs.index.IndexEngine.get_loc\u001b[39m\u001b[34m()\u001b[39m\n",
      "\u001b[36mFile \u001b[39m\u001b[32mindex.pyx:196\u001b[39m, in \u001b[36mpandas._libs.index.IndexEngine.get_loc\u001b[39m\u001b[34m()\u001b[39m\n",
      "\u001b[36mFile \u001b[39m\u001b[32mpandas\\\\_libs\\\\hashtable_class_helper.pxi:7081\u001b[39m, in \u001b[36mpandas._libs.hashtable.PyObjectHashTable.get_item\u001b[39m\u001b[34m()\u001b[39m\n",
      "\u001b[36mFile \u001b[39m\u001b[32mpandas\\\\_libs\\\\hashtable_class_helper.pxi:7089\u001b[39m, in \u001b[36mpandas._libs.hashtable.PyObjectHashTable.get_item\u001b[39m\u001b[34m()\u001b[39m\n",
      "\u001b[31mKeyError\u001b[39m: 'GeoJSON'",
      "\nThe above exception was the direct cause of the following exception:\n",
      "\u001b[31mKeyError\u001b[39m                                  Traceback (most recent call last)",
      "\u001b[36mCell\u001b[39m\u001b[36m \u001b[39m\u001b[32mIn[46]\u001b[39m\u001b[32m, line 4\u001b[39m\n\u001b[32m      2\u001b[39m \u001b[38;5;66;03m# Convert string to dictionary\u001b[39;00m\n\u001b[32m      3\u001b[39m uhi_data = pd.read_csv(\u001b[33mr\u001b[39m\u001b[33m\"\u001b[39m\u001b[33mC:\u001b[39m\u001b[33m\\\u001b[39m\u001b[33mUsers\u001b[39m\u001b[33m\\\u001b[39m\u001b[33mlevie\u001b[39m\u001b[33m\\\u001b[39m\u001b[33mOneDrive\u001b[39m\u001b[33m\\\u001b[39m\u001b[33mDesktop\u001b[39m\u001b[33m\\\u001b[39m\u001b[33mYear 5\u001b[39m\u001b[33m\\\u001b[39m\u001b[33mproject\u001b[39m\u001b[33m\\\u001b[39m\u001b[33mdataset\u001b[39m\u001b[33m\\\u001b[39m\u001b[33mUHI_training_data.csv\u001b[39m\u001b[33m\"\u001b[39m)\n\u001b[32m----> \u001b[39m\u001b[32m4\u001b[39m uhi_data[\u001b[33m\"\u001b[39m\u001b[33m.geo\u001b[39m\u001b[33m\"\u001b[39m] = \u001b[43muhi_data\u001b[49m\u001b[43m[\u001b[49m\u001b[33;43m\"\u001b[39;49m\u001b[33;43mGeoJSON\u001b[39;49m\u001b[33;43m\"\u001b[39;49m\u001b[43m]\u001b[49m.apply(\u001b[38;5;28;01mlambda\u001b[39;00m x: ast.literal_eval(x)[\u001b[33m\"\u001b[39m\u001b[33mcoordinates\u001b[39m\u001b[33m\"\u001b[39m][\u001b[32m0\u001b[39m])\n\u001b[32m      6\u001b[39m \u001b[38;5;66;03m# Check if '.geo' column exists\u001b[39;00m\n\u001b[32m      7\u001b[39m \u001b[38;5;28;01mif\u001b[39;00m  \u001b[33m'\u001b[39m\u001b[33m.geo\u001b[39m\u001b[33m'\u001b[39m \u001b[38;5;129;01min\u001b[39;00m uhi_data.columns:\n\u001b[32m      8\u001b[39m     \u001b[38;5;66;03m# Convert '.geo' JSON string to dictionary and extract coordinates\u001b[39;00m\n",
      "\u001b[36mFile \u001b[39m\u001b[32mc:\\Users\\levie\\miniconda3\\envs\\geo\\Lib\\site-packages\\pandas\\core\\frame.py:4102\u001b[39m, in \u001b[36mDataFrame.__getitem__\u001b[39m\u001b[34m(self, key)\u001b[39m\n\u001b[32m   4100\u001b[39m \u001b[38;5;28;01mif\u001b[39;00m \u001b[38;5;28mself\u001b[39m.columns.nlevels > \u001b[32m1\u001b[39m:\n\u001b[32m   4101\u001b[39m     \u001b[38;5;28;01mreturn\u001b[39;00m \u001b[38;5;28mself\u001b[39m._getitem_multilevel(key)\n\u001b[32m-> \u001b[39m\u001b[32m4102\u001b[39m indexer = \u001b[38;5;28;43mself\u001b[39;49m\u001b[43m.\u001b[49m\u001b[43mcolumns\u001b[49m\u001b[43m.\u001b[49m\u001b[43mget_loc\u001b[49m\u001b[43m(\u001b[49m\u001b[43mkey\u001b[49m\u001b[43m)\u001b[49m\n\u001b[32m   4103\u001b[39m \u001b[38;5;28;01mif\u001b[39;00m is_integer(indexer):\n\u001b[32m   4104\u001b[39m     indexer = [indexer]\n",
      "\u001b[36mFile \u001b[39m\u001b[32mc:\\Users\\levie\\miniconda3\\envs\\geo\\Lib\\site-packages\\pandas\\core\\indexes\\base.py:3812\u001b[39m, in \u001b[36mIndex.get_loc\u001b[39m\u001b[34m(self, key)\u001b[39m\n\u001b[32m   3807\u001b[39m     \u001b[38;5;28;01mif\u001b[39;00m \u001b[38;5;28misinstance\u001b[39m(casted_key, \u001b[38;5;28mslice\u001b[39m) \u001b[38;5;129;01mor\u001b[39;00m (\n\u001b[32m   3808\u001b[39m         \u001b[38;5;28misinstance\u001b[39m(casted_key, abc.Iterable)\n\u001b[32m   3809\u001b[39m         \u001b[38;5;129;01mand\u001b[39;00m \u001b[38;5;28many\u001b[39m(\u001b[38;5;28misinstance\u001b[39m(x, \u001b[38;5;28mslice\u001b[39m) \u001b[38;5;28;01mfor\u001b[39;00m x \u001b[38;5;129;01min\u001b[39;00m casted_key)\n\u001b[32m   3810\u001b[39m     ):\n\u001b[32m   3811\u001b[39m         \u001b[38;5;28;01mraise\u001b[39;00m InvalidIndexError(key)\n\u001b[32m-> \u001b[39m\u001b[32m3812\u001b[39m     \u001b[38;5;28;01mraise\u001b[39;00m \u001b[38;5;167;01mKeyError\u001b[39;00m(key) \u001b[38;5;28;01mfrom\u001b[39;00m\u001b[38;5;250m \u001b[39m\u001b[34;01merr\u001b[39;00m\n\u001b[32m   3813\u001b[39m \u001b[38;5;28;01mexcept\u001b[39;00m \u001b[38;5;167;01mTypeError\u001b[39;00m:\n\u001b[32m   3814\u001b[39m     \u001b[38;5;66;03m# If we have a listlike key, _check_indexing_error will raise\u001b[39;00m\n\u001b[32m   3815\u001b[39m     \u001b[38;5;66;03m#  InvalidIndexError. Otherwise we fall through and re-raise\u001b[39;00m\n\u001b[32m   3816\u001b[39m     \u001b[38;5;66;03m#  the TypeError.\u001b[39;00m\n\u001b[32m   3817\u001b[39m     \u001b[38;5;28mself\u001b[39m._check_indexing_error(key)\n",
      "\u001b[31mKeyError\u001b[39m: 'GeoJSON'"
     ]
    }
   ],
   "source": [
    "\n",
    "import ast\n",
    "# Convert string to dictionary\n",
    "uhi_data = pd.read_csv(r\"C:\\Users\\levie\\OneDrive\\Desktop\\Year 5\\project\\dataset\\UHI_training_data.csv\")\n",
    "uhi_data[\".geo\"] = uhi_data[\"GeoJSON\"].apply(lambda x: ast.literal_eval(x)[\"coordinates\"][0])\n",
    "\n",
    "# Check if '.geo' column exists\n",
    "if  '.geo' in uhi_data.columns:\n",
    "    # Convert '.geo' JSON string to dictionary and extract coordinates\n",
    "    uhi_data[[\"Longitude\", \"Latitude\"]] = uhi_data[\".geo\"].apply(\n",
    "        lambda x: pd.Series(ast.literal_eval(x)[\"coordinates\"][0])\n",
    "    )\n",
    "else:\n",
    "    print(\"Column '.geo' not found in dataset!\")\n",
    "\n",
    "# Display the updated dataframe\n",
    "print(uhi_data.head())"
   ]
  },
  {
   "cell_type": "code",
   "execution_count": 26,
   "metadata": {},
   "outputs": [
    {
     "name": "stdout",
     "output_type": "stream",
     "text": [
      "Index(['system:index', 'EMM', 'FV', 'LST', 'Map', 'NDVI', 'class', 'suhi',\n",
      "       '.geo'],\n",
      "      dtype='object')\n"
     ]
    }
   ],
   "source": [
    "print(uhi_data.columns)"
   ]
  }
 ],
 "metadata": {
  "kernelspec": {
   "display_name": "geo",
   "language": "python",
   "name": "python3"
  },
  "language_info": {
   "codemirror_mode": {
    "name": "ipython",
    "version": 3
   },
   "file_extension": ".py",
   "mimetype": "text/x-python",
   "name": "python",
   "nbconvert_exporter": "python",
   "pygments_lexer": "ipython3",
   "version": "3.12.9"
  }
 },
 "nbformat": 4,
 "nbformat_minor": 2
}
