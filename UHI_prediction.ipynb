{
 "cells": [
  {
   "cell_type": "markdown",
   "metadata": {},
   "source": [
    "## **Model predicting Urban Heat Island**"
   ]
  },
  {
   "cell_type": "code",
   "execution_count": 2,
   "metadata": {},
   "outputs": [],
   "source": [
    "import numpy as np\n",
    "import pandas as pd"
   ]
  },
  {
   "cell_type": "code",
   "execution_count": 3,
   "metadata": {},
   "outputs": [],
   "source": [
    "uhi = pd.read_csv(r\"C:\\Users\\levie\\OneDrive\\Desktop\\Year 5\\project\\dataset\\UHI_training_data.csv\")"
   ]
  },
  {
   "cell_type": "code",
   "execution_count": 4,
   "metadata": {},
   "outputs": [
    {
     "data": {
      "text/html": [
       "<div>\n",
       "<style scoped>\n",
       "    .dataframe tbody tr th:only-of-type {\n",
       "        vertical-align: middle;\n",
       "    }\n",
       "\n",
       "    .dataframe tbody tr th {\n",
       "        vertical-align: top;\n",
       "    }\n",
       "\n",
       "    .dataframe thead th {\n",
       "        text-align: right;\n",
       "    }\n",
       "</style>\n",
       "<table border=\"1\" class=\"dataframe\">\n",
       "  <thead>\n",
       "    <tr style=\"text-align: right;\">\n",
       "      <th></th>\n",
       "      <th>system:index</th>\n",
       "      <th>EMM</th>\n",
       "      <th>FV</th>\n",
       "      <th>LST</th>\n",
       "      <th>Map</th>\n",
       "      <th>NDVI</th>\n",
       "      <th>class</th>\n",
       "      <th>suhi</th>\n",
       "      <th>.geo</th>\n",
       "    </tr>\n",
       "  </thead>\n",
       "  <tbody>\n",
       "    <tr>\n",
       "      <th>0</th>\n",
       "      <td>1_1_1_1_1_1_1_1_1_2_7_0</td>\n",
       "      <td>0.988258</td>\n",
       "      <td>0.564607</td>\n",
       "      <td>30.783192</td>\n",
       "      <td>50</td>\n",
       "      <td>0.191956</td>\n",
       "      <td>10</td>\n",
       "      <td>1.780245</td>\n",
       "      <td>{\"type\":\"MultiPoint\",\"coordinates\":[]}</td>\n",
       "    </tr>\n",
       "    <tr>\n",
       "      <th>1</th>\n",
       "      <td>1_1_1_1_1_1_1_1_1_2_21_0</td>\n",
       "      <td>0.987213</td>\n",
       "      <td>0.303351</td>\n",
       "      <td>31.487080</td>\n",
       "      <td>50</td>\n",
       "      <td>0.101995</td>\n",
       "      <td>10</td>\n",
       "      <td>2.484133</td>\n",
       "      <td>{\"type\":\"MultiPoint\",\"coordinates\":[]}</td>\n",
       "    </tr>\n",
       "    <tr>\n",
       "      <th>2</th>\n",
       "      <td>1_1_1_1_1_1_1_1_1_2_27_0</td>\n",
       "      <td>0.987232</td>\n",
       "      <td>0.308082</td>\n",
       "      <td>31.362094</td>\n",
       "      <td>50</td>\n",
       "      <td>0.103624</td>\n",
       "      <td>10</td>\n",
       "      <td>2.359147</td>\n",
       "      <td>{\"type\":\"MultiPoint\",\"coordinates\":[]}</td>\n",
       "    </tr>\n",
       "    <tr>\n",
       "      <th>3</th>\n",
       "      <td>1_1_1_1_1_1_1_1_1_2_32_0</td>\n",
       "      <td>0.987747</td>\n",
       "      <td>0.436773</td>\n",
       "      <td>30.672953</td>\n",
       "      <td>50</td>\n",
       "      <td>0.147938</td>\n",
       "      <td>10</td>\n",
       "      <td>1.670006</td>\n",
       "      <td>{\"type\":\"MultiPoint\",\"coordinates\":[]}</td>\n",
       "    </tr>\n",
       "    <tr>\n",
       "      <th>4</th>\n",
       "      <td>1_1_1_1_1_1_1_1_1_2_41_0</td>\n",
       "      <td>0.989417</td>\n",
       "      <td>0.854355</td>\n",
       "      <td>28.460604</td>\n",
       "      <td>50</td>\n",
       "      <td>0.291729</td>\n",
       "      <td>10</td>\n",
       "      <td>-0.542343</td>\n",
       "      <td>{\"type\":\"MultiPoint\",\"coordinates\":[]}</td>\n",
       "    </tr>\n",
       "  </tbody>\n",
       "</table>\n",
       "</div>"
      ],
      "text/plain": [
       "               system:index       EMM        FV        LST  Map      NDVI  \\\n",
       "0   1_1_1_1_1_1_1_1_1_2_7_0  0.988258  0.564607  30.783192   50  0.191956   \n",
       "1  1_1_1_1_1_1_1_1_1_2_21_0  0.987213  0.303351  31.487080   50  0.101995   \n",
       "2  1_1_1_1_1_1_1_1_1_2_27_0  0.987232  0.308082  31.362094   50  0.103624   \n",
       "3  1_1_1_1_1_1_1_1_1_2_32_0  0.987747  0.436773  30.672953   50  0.147938   \n",
       "4  1_1_1_1_1_1_1_1_1_2_41_0  0.989417  0.854355  28.460604   50  0.291729   \n",
       "\n",
       "   class      suhi                                    .geo  \n",
       "0     10  1.780245  {\"type\":\"MultiPoint\",\"coordinates\":[]}  \n",
       "1     10  2.484133  {\"type\":\"MultiPoint\",\"coordinates\":[]}  \n",
       "2     10  2.359147  {\"type\":\"MultiPoint\",\"coordinates\":[]}  \n",
       "3     10  1.670006  {\"type\":\"MultiPoint\",\"coordinates\":[]}  \n",
       "4     10 -0.542343  {\"type\":\"MultiPoint\",\"coordinates\":[]}  "
      ]
     },
     "execution_count": 4,
     "metadata": {},
     "output_type": "execute_result"
    }
   ],
   "source": [
    "uhi.head()"
   ]
  },
  {
   "cell_type": "code",
   "execution_count": 5,
   "metadata": {},
   "outputs": [
    {
     "data": {
      "text/plain": [
       "system:index    0\n",
       "EMM             0\n",
       "FV              0\n",
       "LST             0\n",
       "Map             0\n",
       "NDVI            0\n",
       "class           0\n",
       "suhi            0\n",
       ".geo            0\n",
       "dtype: int64"
      ]
     },
     "execution_count": 5,
     "metadata": {},
     "output_type": "execute_result"
    }
   ],
   "source": [
    "uhi.isnull().sum()"
   ]
  },
  {
   "cell_type": "code",
   "execution_count": 6,
   "metadata": {},
   "outputs": [
    {
     "data": {
      "text/plain": [
       "system:index     object\n",
       "EMM             float64\n",
       "FV              float64\n",
       "LST             float64\n",
       "Map               int64\n",
       "NDVI            float64\n",
       "class             int64\n",
       "suhi            float64\n",
       ".geo             object\n",
       "dtype: object"
      ]
     },
     "execution_count": 6,
     "metadata": {},
     "output_type": "execute_result"
    }
   ],
   "source": [
    "uhi.dtypes"
   ]
  },
  {
   "cell_type": "code",
   "execution_count": 7,
   "metadata": {},
   "outputs": [],
   "source": [
    "uhi = uhi.drop(['system:index','Map','.geo'],axis = 1)"
   ]
  },
  {
   "cell_type": "code",
   "execution_count": 8,
   "metadata": {},
   "outputs": [
    {
     "name": "stdout",
     "output_type": "stream",
     "text": [
      "(1540, 5)\n"
     ]
    }
   ],
   "source": [
    "#Training features for SUHI\n",
    "independent_features = uhi.drop(['suhi'],axis=1)\n",
    "dependent_features = uhi['suhi']\n",
    "\n",
    "#Training features for LULC\n",
    "features = uhi.drop(['class'],axis=1)\n",
    "targets = uhi['class']\n",
    "print(independent_features.shape)"
   ]
  },
  {
   "cell_type": "markdown",
   "metadata": {},
   "source": [
    "We use RandomForestClasify to classify Land Use Land Cover<br>\n",
    "We use RandomForestRegressor to predict UHI\n"
   ]
  },
  {
   "cell_type": "code",
   "execution_count": 9,
   "metadata": {},
   "outputs": [],
   "source": [
    "#Splitting the dataets\n",
    "from sklearn.model_selection import train_test_split\n",
    "X_train,X_test,y_train,y_test = train_test_split(independent_features,dependent_features,test_size=0.3,random_state=100)\n",
    "X_train_class,X_test_class,y_train_class,y_test_class = train_test_split(features,targets,test_size=0.3,random_state=100)"
   ]
  },
  {
   "cell_type": "code",
   "execution_count": 19,
   "metadata": {},
   "outputs": [],
   "source": [
    "# Standardize the values for the regressor\n",
    "from sklearn.preprocessing import StandardScaler,MinMaxScaler\n",
    "scale = StandardScaler()\n",
    "X_train_scaled = scale.fit_transform(X_train)\n",
    "X_test_scaled = scale.fit_transform(X_test)\n",
    "\n",
    "#Standardize values of the clasifier\n",
    "X_train_scaled1 = scale.fit_transform(X_train_class)\n",
    "X_test_scaled1 = scale.fit_transform(X_test_class)"
   ]
  },
  {
   "cell_type": "code",
   "execution_count": null,
   "metadata": {},
   "outputs": [],
   "source": [
    "#Fitting the model for training\n",
    "from sklearn.ensemble import RandomForestRegressor\n",
    "rfr = RandomForestRegressor()"
   ]
  },
  {
   "cell_type": "code",
   "execution_count": 12,
   "metadata": {},
   "outputs": [],
   "source": [
    "#Random forest regressor-UHI prediction\n",
    "rfr.fit(X_train_scaled,y_train)\n",
    "y_pred = rfr.predict(X_test_scaled)"
   ]
  },
  {
   "cell_type": "code",
   "execution_count": 13,
   "metadata": {},
   "outputs": [
    {
     "name": "stdout",
     "output_type": "stream",
     "text": [
      "The mean absolute error is:0.023\n",
      "The mean squared error is:0.001\n",
      "R2:0.999\n",
      "None\n"
     ]
    }
   ],
   "source": [
    "from sklearn.metrics import r2_score,mean_absolute_error,mean_squared_error\n",
    "# Evaluating model performance\n",
    "def model_perform (y_p,y_t):\n",
    "    mae = mean_absolute_error(y_p,y_t)\n",
    "    mse = mean_squared_error(y_p,y_t)\n",
    "    r2 = r2_score(y_p,y_t)\n",
    "    print(f\"The mean absolute error is:{mae:.3f}\")\n",
    "    print(f\"The mean squared error is:{mse:.3f}\")\n",
    "    print(f\"R2:{r2:.3f}\")\n",
    "model_eval = model_perform(y_pred,y_test)\n",
    "print(model_eval)"
   ]
  },
  {
   "cell_type": "markdown",
   "metadata": {},
   "source": [
    "### Saving the model\n"
   ]
  },
  {
   "cell_type": "code",
   "execution_count": null,
   "metadata": {},
   "outputs": [],
   "source": [
    "import pickle\n"
   ]
  }
 ],
 "metadata": {
  "kernelspec": {
   "display_name": "geo",
   "language": "python",
   "name": "python3"
  },
  "language_info": {
   "codemirror_mode": {
    "name": "ipython",
    "version": 3
   },
   "file_extension": ".py",
   "mimetype": "text/x-python",
   "name": "python",
   "nbconvert_exporter": "python",
   "pygments_lexer": "ipython3",
   "version": "3.12.9"
  }
 },
 "nbformat": 4,
 "nbformat_minor": 2
}
